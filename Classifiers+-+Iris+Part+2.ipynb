{
 "cells": [
  {
   "cell_type": "code",
   "execution_count": 7,
   "metadata": {},
   "outputs": [
    {
     "name": "stdout",
     "output_type": "stream",
     "text": [
      "Accuracy of machine learning algorithm:  0.933333333333\n"
     ]
    }
   ],
   "source": [
    "from sklearn import datasets\n",
    "from sklearn.model_selection import train_test_split\n",
    "# from sklearn import tree # replaced with Kneighbors\n",
    "from sklearn.neighbors import KNeighborsClassifier\n",
    "from sklearn.metrics import accuracy_score\n",
    "from sklearn import tree\n",
    "\n",
    "# COLLECT TRAINING DATA\n",
    " \n",
    "iris = datasets.load_iris()\n",
    "\n",
    "X = iris.data #input FEATURES\n",
    "y = iris.target #output LABELS\n",
    "\n",
    "X_train, X_test, y_train, y_test = train_test_split(X, y, test_size= .5) #splits the data so some can be used for testing 50%\n",
    "\n",
    "#Choose the Classifier model\n",
    "# Pick either decision tree or K Neighbors\n",
    "my_classifier = tree.DecisionTreeClassifier() \n",
    "#my_classifier = KNeighborsClassifier()\n",
    "\n",
    "# TRAIN CLASSIFIER\n",
    "my_classifier.fit(X_train, y_train)\n",
    " \n",
    "# MAKE PREDICTIONS\n",
    "predictions = my_classifier.predict(X_test)\n",
    "\n",
    "# CHECK ACCURACY\n",
    "print(\"Accuracy of machine learning algorithm: \", accuracy_score(y_test, predictions))"
   ]
  },
  {
   "cell_type": "code",
   "execution_count": null,
   "metadata": {
    "collapsed": true
   },
   "outputs": [],
   "source": []
  }
 ],
 "metadata": {
  "kernelspec": {
   "display_name": "Python 3",
   "language": "python",
   "name": "python3"
  },
  "language_info": {
   "codemirror_mode": {
    "name": "ipython",
    "version": 3
   },
   "file_extension": ".py",
   "mimetype": "text/x-python",
   "name": "python",
   "nbconvert_exporter": "python",
   "pygments_lexer": "ipython3",
   "version": "3.6.1"
  }
 },
 "nbformat": 4,
 "nbformat_minor": 2
}
