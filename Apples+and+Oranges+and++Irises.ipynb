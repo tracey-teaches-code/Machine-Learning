{
 "cells": [
  {
   "cell_type": "markdown",
   "metadata": {},
   "source": [
    "### Simple Machine Learning Example - Apples and Oranges"
   ]
  },
  {
   "cell_type": "markdown",
   "metadata": {},
   "source": [
    "This is our first look at using machine learning techniques to classify items. In this example, we have information about fruit, and we want to classify it as being an apple or an orange. The general idea is to use an existing (and powerful) machine learning data structure for prediction. In other words, given some information about a piece of fruit, can we accutately determine if its an apple or an orange?\n",
    "\n",
    "There are two major strategies for making predictions: supervised learning and unsupervised learning. The majority of practical techniques are supervised, so we'll focus on those. There are many supervised learning models that are used for classifying information. Examples include:\n",
    "+ decision trees\n",
    "+ k Nearest Neighbors (kNN)\n",
    "+ Support Vector Machines (SVM)\n",
    "+ Neural Networks\n",
    "+ Naive Bayes Classifier\n",
    "+ Discriminant Analysis, etc\n",
    "In this example we use a machine learning data structure called a Decision Tree\n",
    "\n",
    "In supervised learning, you have a 'training set' of data with a range of information about objects you want to classify (which we call features) PLUS an accurate classification for each one (which we call the label). \n",
    "\n",
    "+ Typically you divide this features/label dataset into two parts: a training dataset and a testing dataset\n",
    "+ You first use the training dataset with both features and labels to 'train' your machine learning data structure. \n",
    "+ Then you use the testing dataset with just the features and see what labels it produces\n",
    "+ Finally, you compare the predicted labels with the actual labels to see how accurate your machine learning data structure was\n",
    "\n",
    "One final thought- there are two categories of problems that we want to predict. The type of prediction being made can be either:\n",
    "+ list of discrete values: think type of fruit, next move on chess board, spam/not spam. These are called **classification problems**.\n",
    "+ a continuous range of values: think weight of a fish, dollar value of a stock, height of a tree . These are called **regression problems**."
   ]
  },
  {
   "cell_type": "code",
   "execution_count": 16,
   "metadata": {},
   "outputs": [
    {
     "name": "stdout",
     "output_type": "stream",
     "text": [
      "Predict fruit weighing 160 grames and bumpy (apple = 0 orange= 1 ) Prediction is [1]\n"
     ]
    }
   ],
   "source": [
    "import sklearn\n",
    "from sklearn import tree\n",
    "\n",
    "#skin type\n",
    "bumpy = 0\n",
    "smooth = 1\n",
    "\n",
    "#labels\n",
    "apple = 0\n",
    "orange = 1\n",
    "\n",
    "# training dataset with two features: weight and skin type, and accurate labels\n",
    "# note that they are in different Python lists\n",
    "features = [[140, smooth], [130, smooth], [150, bumpy], [170, bumpy]]\n",
    "labels = [apple, apple, orange, orange]\n",
    "\n",
    "#choose a decision tree for our classifier\n",
    "classifier = tree.DecisionTreeClassifier()\n",
    "\n",
    "#train the classifier using training dataset\n",
    "classifier = classifier.fit(features, labels)\n",
    "\n",
    "#take it for a test spin - can it predict the type of fruit?\n",
    "# prediction should be 1 (orange)\n",
    "print(\"Predict fruit weighing 160 grames and bumpy (apple =\", apple, \"orange=\", orange, \") Prediction is\" , classifier.predict([[160, bumpy]]))\n"
   ]
  },
  {
   "cell_type": "markdown",
   "metadata": {},
   "source": [
    "### Another Machine Learning Example - Iris Classification"
   ]
  },
  {
   "cell_type": "markdown",
   "metadata": {},
   "source": [
    "Now we are going to look at another common machine learning example: classifying Iris flowers measurements of the sepal and petals. You can find out more about this data at: https://en.wikipedia.org/wiki/Iris_flower_data_set\n",
    "\n",
    "Sci-kit learn has code that loads this dataset into a list, "
   ]
  },
  {
   "cell_type": "code",
   "execution_count": 17,
   "metadata": {},
   "outputs": [
    {
     "name": "stdout",
     "output_type": "stream",
     "text": [
      "Expected labels:  [0 1 2]\n",
      "Predicted labels:  [0 1 2]\n"
     ]
    }
   ],
   "source": [
    "from sklearn.datasets import load_iris\n",
    "import numpy as np\n",
    "\n",
    "# load the Iris dataset into a list. \n",
    "# There are four features (sepal length, sepal width, petal length, petal width) \n",
    "# used to classify a particular flower into one of 3 labels (setosa, versicolor, virginica)\n",
    "iris = load_iris()\n",
    "\n",
    "# Use 3 items in the list for our test: the ones at indexes 0, 50, and 100.\n",
    "# We picked those because we happen to know the dataset has exactly 50 examples of each label, \n",
    "# and the labeled data is in order (50 setosa followed by 50 versicolor followed by 50 virginica)\n",
    "test_idx=[0,50,100]\n",
    "\n",
    "# create a training dataset by deleting the 3 test items. Create two lists: one with features and one with labels\n",
    "train_target = np.delete(iris.target,test_idx)\n",
    "train_data = np.delete(iris.data,test_idx,axis=0)\n",
    "\n",
    "# create a test dataset with just the 3 test items. Create two two lists: one with features and one with labels\n",
    "test_target = iris.target[test_idx]\n",
    "test_data = iris.data[test_idx]\n",
    "\n",
    "# choose a Decision Tree as the classifier\n",
    "irclf = tree.DecisionTreeClassifier()\n",
    "\n",
    "# train the classifier\n",
    "irclf.fit(train_data,train_target)\n",
    "\n",
    "# Make prediction and print the expected and predicted labels. Hopefully they match!\n",
    "print(\"Expected labels: \", test_target)\n",
    "print(\"Predicted labels: \", irclf.predict(test_data))"
   ]
  },
  {
   "cell_type": "code",
   "execution_count": null,
   "metadata": {
    "collapsed": true
   },
   "outputs": [],
   "source": []
  }
 ],
 "metadata": {
  "kernelspec": {
   "display_name": "Python 3",
   "language": "python",
   "name": "python3"
  },
  "language_info": {
   "codemirror_mode": {
    "name": "ipython",
    "version": 3
   },
   "file_extension": ".py",
   "mimetype": "text/x-python",
   "name": "python",
   "nbconvert_exporter": "python",
   "pygments_lexer": "ipython3",
   "version": "3.6.1"
  }
 },
 "nbformat": 4,
 "nbformat_minor": 2
}
